{
 "cells": [
  {
   "cell_type": "markdown",
   "metadata": {},
   "source": [
    "# Dealing With Class Imbalanced Datasets For Classification"
   ]
  },
  {
   "cell_type": "code",
   "execution_count": 58,
   "metadata": {},
   "outputs": [],
   "source": [
    "from sklearn.model_selection import KFold, cross_val_score, StratifiedKFold\n",
    "from imblearn.over_sampling import SMOTE"
   ]
  },
  {
   "cell_type": "code",
   "execution_count": 59,
   "metadata": {},
   "outputs": [],
   "source": [
    "from sklearn import metrics\n",
    "from sklearn.metrics import confusion_matrix, classification_report, roc_auc_score, roc_curve, accuracy_score, f1_score, recall_score\n",
    "from sklearn.ensemble import RandomForestClassifier"
   ]
  },
  {
   "cell_type": "code",
   "execution_count": 125,
   "metadata": {},
   "outputs": [],
   "source": [
    "import pandas as pd\n",
    "import numpy as np\n",
    "from sklearn.model_selection import train_test_split\n",
    "from sklearn.preprocessing import MinMaxScaler\n",
    "from imblearn.over_sampling import SMOTENC\n",
    "\n",
    "\n",
    "data=pd.read_csv(\"training data.csv\",sep=\";\")\n",
    "test=pd.read_csv(\"test data.csv\",sep=\";\")\n",
    "\n",
    "data = data.drop([data.columns[-1]],axis = 1)\n",
    "test = test.drop([test.columns[-1]],axis = 1)"
   ]
  },
  {
   "cell_type": "code",
   "execution_count": 126,
   "metadata": {},
   "outputs": [
    {
     "name": "stdout",
     "output_type": "stream",
     "text": [
      "0    85142\n",
      "1     1540\n",
      "Name: adopter, dtype: int64\n"
     ]
    }
   ],
   "source": [
    "print(data['adopter'].value_counts())\n",
    "x_cols=data.columns[:-1]"
   ]
  },
  {
   "cell_type": "code",
   "execution_count": 142,
   "metadata": {},
   "outputs": [],
   "source": [
    "from sklearn.model_selection import train_test_split\n",
    "X = data[x_cols]\n",
    "y = data['adopter']\n",
    "X_train, X_test, y_train, y_test = train_test_split(X, y, test_size=.4)"
   ]
  },
  {
   "cell_type": "code",
   "execution_count": 143,
   "metadata": {},
   "outputs": [],
   "source": [
    "smt = SMOTE(ratio=0.03)\n",
    "X_train, y_train = smt.fit_sample(X_train, y_train)"
   ]
  },
  {
   "cell_type": "code",
   "execution_count": null,
   "metadata": {},
   "outputs": [],
   "source": [
    "{'max_depth': 10, 'min_samples_leaf': 4, 'min_samples_split': 10, 'n_estimators': 300}"
   ]
  },
  {
   "cell_type": "code",
   "execution_count": null,
   "metadata": {},
   "outputs": [],
   "source": [
    "#class_weight\n",
    "#cross_validation\n",
    "#over-predict label\n",
    "#threshold"
   ]
  },
  {
   "cell_type": "code",
   "execution_count": 144,
   "metadata": {},
   "outputs": [],
   "source": [
    "from sklearn.ensemble import RandomForestClassifier\n",
    "class_weight = dict({0:0.05, 1:0.95})\n",
    "\n",
    "rdf = RandomForestClassifier(bootstrap=True, class_weight=class_weight, criterion='gini',\n",
    "            max_depth=10, max_features='auto', max_leaf_nodes=None,\n",
    "            min_impurity_decrease=0.0, min_impurity_split=None,\n",
    "            min_samples_leaf=4, min_samples_split=10,\n",
    "            min_weight_fraction_leaf=0.0, n_estimators=300, n_jobs=-1,\n",
    "            oob_score=False,\n",
    "            verbose=0, warm_start=False)"
   ]
  },
  {
   "cell_type": "code",
   "execution_count": 145,
   "metadata": {},
   "outputs": [],
   "source": [
    "rdf.fit(X_train, y_train)\n",
    "\n",
    "# Predict..\n",
    "pred_RF = rdf.predict(X_test)"
   ]
  },
  {
   "cell_type": "code",
   "execution_count": 146,
   "metadata": {},
   "outputs": [
    {
     "name": "stdout",
     "output_type": "stream",
     "text": [
      "[[32933  1125]\n",
      " [  504   111]]\n",
      "              precision    recall  f1-score   support\n",
      "\n",
      "           0       0.98      0.97      0.98     34058\n",
      "           1       0.09      0.18      0.12       615\n",
      "\n",
      "    accuracy                           0.95     34673\n",
      "   macro avg       0.54      0.57      0.55     34673\n",
      "weighted avg       0.97      0.95      0.96     34673\n",
      "\n",
      "0.953018198598333\n"
     ]
    }
   ],
   "source": [
    "print(confusion_matrix(y_test,pred_RF))\n",
    "print(classification_report(y_test,pred_RF))\n",
    "print(accuracy_score(y_test, pred_RF))"
   ]
  },
  {
   "cell_type": "code",
   "execution_count": 113,
   "metadata": {},
   "outputs": [
    {
     "name": "stdout",
     "output_type": "stream",
     "text": [
      "[[33051  1006]\n",
      " [  497   119]]\n",
      "              precision    recall  f1-score   support\n",
      "\n",
      "           0       0.99      0.97      0.98     34057\n",
      "           1       0.11      0.19      0.14       616\n",
      "\n",
      "    accuracy                           0.96     34673\n",
      "   macro avg       0.55      0.58      0.56     34673\n",
      "weighted avg       0.97      0.96      0.96     34673\n",
      "\n",
      "0.9566521500879647\n"
     ]
    }
   ],
   "source": [
    "print(confusion_matrix(y_test,pred_RF))\n",
    "print(classification_report(y_test,pred_RF))\n",
    "print(accuracy_score(y_test, pred_RF))"
   ]
  },
  {
   "cell_type": "code",
   "execution_count": 124,
   "metadata": {
    "scrolled": true
   },
   "outputs": [
    {
     "name": "stdout",
     "output_type": "stream",
     "text": [
      "[0.11934901 0.12392427 0.15770609 0.15642458 0.21997755]\n"
     ]
    },
    {
     "data": {
      "text/plain": [
       "0.1554763002867948"
      ]
     },
     "execution_count": 124,
     "metadata": {},
     "output_type": "execute_result"
    }
   ],
   "source": [
    "# Cross-Validation\n",
    "from sklearn.model_selection import KFold, cross_val_score, StratifiedKFold\n",
    "\n",
    "cv = KFold(n_splits=5)\n",
    "#cv = StratifiedKFold(5)\n",
    "result = cross_val_score(rdf, X_train, y_train, cv=cv, scoring = 'f1')\n",
    "print(result)\n",
    "result.mean()"
   ]
  },
  {
   "cell_type": "code",
   "execution_count": 78,
   "metadata": {},
   "outputs": [
    {
     "name": "stdout",
     "output_type": "stream",
     "text": [
      "Best parameters : {'n_estimators': 1000}\n"
     ]
    }
   ],
   "source": [
    "from sklearn.model_selection import GridSearchCV\n",
    "\n",
    "n_estimators = [100,1000]\n",
    "\n",
    "gsc = GridSearchCV(\n",
    "    estimator=RandomForestClassifier(),\n",
    "    param_grid={\n",
    "        'n_estimators': n_estimators,\n",
    "        \n",
    "        max_depth\n",
    "    },\n",
    "    scoring='f1',\n",
    "    cv=3\n",
    ")\n",
    "grid_result = gsc.fit(X_train, y_train)\n",
    "\n",
    "print(\"Best parameters : %s\" % grid_result.best_params_)\n"
   ]
  },
  {
   "cell_type": "code",
   "execution_count": 98,
   "metadata": {},
   "outputs": [
    {
     "name": "stdout",
     "output_type": "stream",
     "text": [
      "Best parameters : {'max_depth': 10, 'min_samples_leaf': 4, 'min_samples_split': 10, 'n_estimators': 300}\n"
     ]
    }
   ],
   "source": [
    "from sklearn.model_selection import GridSearchCV\n",
    "\n",
    "gsc = GridSearchCV(\n",
    "    estimator=rdf,\n",
    "    param_grid={\n",
    "        'n_estimators': [300, 700, 1000],\n",
    "        'max_depth': [6, 8, 10, 20], \n",
    "        'min_samples_split': [5, 10, 15],\n",
    "        'min_samples_leaf' : [4, 8, 12],\n",
    "    },\n",
    "    scoring='f1',\n",
    "    cv=3\n",
    ")\n",
    "grid_result = gsc.fit(X_train, y_train)\n",
    "\n",
    "print(\"Best parameters : %s\" % grid_result.best_params_)"
   ]
  },
  {
   "cell_type": "code",
   "execution_count": 95,
   "metadata": {},
   "outputs": [
    {
     "data": {
      "text/plain": [
       "<matplotlib.axes._subplots.AxesSubplot at 0x11aaa367da0>"
      ]
     },
     "execution_count": 95,
     "metadata": {},
     "output_type": "execute_result"
    },
    {
     "data": {
      "image/png": "[encoded data removed]",
      "text/plain": [
       "<Figure size 432x288 with 1 Axes>"
      ]
     },
     "metadata": {
      "needs_background": "light"
     },
     "output_type": "display_data"
    }
   ],
   "source": [
    "# Plot the weights vs f1 score\n",
    "dataz = pd.DataFrame({ 'score': grid_result.cv_results_['mean_test_score'],\n",
    "                       'n_estimators': n_estimators })\n",
    "dataz.plot(x='n_estimators')"
   ]
  },
  {
   "cell_type": "code",
   "execution_count": 94,
   "metadata": {},
   "outputs": [
    {
     "name": "stdout",
     "output_type": "stream",
     "text": [
      "              precision    recall  f1-score   support\n",
      "\n",
      "           0       0.94      0.99      0.96     32546\n",
      "           1       0.28      0.08      0.13      2127\n",
      "\n",
      "    accuracy                           0.93     34673\n",
      "   macro avg       0.61      0.53      0.55     34673\n",
      "weighted avg       0.90      0.93      0.91     34673\n",
      "\n"
     ]
    }
   ],
   "source": [
    "threshold = 0.5\n",
    "pred_RF = rdf.predict(X_test)\n",
    "prob_RF = rdf.predict_proba(X_test)[:, 1]\n",
    "\n",
    " \n",
    "predicted = (prob_RF >= threshold).astype('int')\n",
    "print(classification_report(predicted,y_test))"
   ]
  },
  {
   "cell_type": "code",
   "execution_count": 106,
   "metadata": {},
   "outputs": [],
   "source": [
    "predictions = rdf.predict(test)"
   ]
  },
  {
   "cell_type": "code",
   "execution_count": 107,
   "metadata": {},
   "outputs": [],
   "source": [
    "import pandas as pd\n",
    "pd.DataFrame(predictions).to_csv(\"submit4.csv\")"
   ]
  }
 ],
 "metadata": {
  "kernelspec": {
   "display_name": "Python 3",
   "language": "python",
   "name": "python3"
  },
  "language_info": {
   "codemirror_mode": {
    "name": "ipython",
    "version": 3
   },
   "file_extension": ".py",
   "mimetype": "text/x-python",
   "name": "python",
   "nbconvert_exporter": "python",
   "pygments_lexer": "ipython3",
   "version": "3.7.3"
  }
 },
 "nbformat": 4,
 "nbformat_minor": 2
}
